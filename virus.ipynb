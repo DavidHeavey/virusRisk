{
 "cells": [
  {
   "cell_type": "code",
   "execution_count": 2,
   "metadata": {},
   "outputs": [],
   "source": [
    "import pandas as pd\n",
    "import torch\n",
    "import torch.nn as nn\n",
    "import numpy as np\n",
    "import matplotlib.pyplot as plt\n",
    "from sklearn.model_selection import train_test_split\n",
    "import seaborn as sns"
   ]
  },
  {
   "cell_type": "code",
   "execution_count": 3,
   "metadata": {},
   "outputs": [
    {
     "name": "stderr",
     "output_type": "stream",
     "text": [
      "C:\\Users\\DavidHeavey\\AppData\\Local\\Temp\\ipykernel_17932\\1086832232.py:2: FutureWarning: In a future version of pandas all arguments of DataFrame.drop except for the argument 'labels' will be keyword-only.\n",
      "  df = df.drop(['TimeStamp','Id','humidityRating'] ,1)\n"
     ]
    },
    {
     "data": {
      "text/plain": [
       "(52036, 7)"
      ]
     },
     "execution_count": 3,
     "metadata": {},
     "output_type": "execute_result"
    }
   ],
   "source": [
    "df = pd.read_csv('export.csv')\n",
    "df = df.drop(['TimeStamp','Id','humidityRating'] ,1)\n",
    "# df = df.drop(\"Id\",1)\n",
    "df.head(40)\n",
    "df.shape\n",
    "#,'pm1', 'pm25'"
   ]
  },
  {
   "cell_type": "code",
   "execution_count": 4,
   "metadata": {},
   "outputs": [
    {
     "data": {
      "text/html": [
       "<div>\n",
       "<style scoped>\n",
       "    .dataframe tbody tr th:only-of-type {\n",
       "        vertical-align: middle;\n",
       "    }\n",
       "\n",
       "    .dataframe tbody tr th {\n",
       "        vertical-align: top;\n",
       "    }\n",
       "\n",
       "    .dataframe thead th {\n",
       "        text-align: right;\n",
       "    }\n",
       "</style>\n",
       "<table border=\"1\" class=\"dataframe\">\n",
       "  <thead>\n",
       "    <tr style=\"text-align: right;\">\n",
       "      <th></th>\n",
       "      <th>co2</th>\n",
       "      <th>temperature</th>\n",
       "      <th>humidity</th>\n",
       "      <th>tvoc</th>\n",
       "      <th>pm1</th>\n",
       "      <th>pm25</th>\n",
       "      <th>virusRisk</th>\n",
       "    </tr>\n",
       "  </thead>\n",
       "  <tbody>\n",
       "    <tr>\n",
       "      <th>count</th>\n",
       "      <td>52036.000000</td>\n",
       "      <td>52036.000000</td>\n",
       "      <td>52036.000000</td>\n",
       "      <td>50704.000000</td>\n",
       "      <td>20690.000000</td>\n",
       "      <td>20690.000000</td>\n",
       "      <td>52036.000000</td>\n",
       "    </tr>\n",
       "    <tr>\n",
       "      <th>mean</th>\n",
       "      <td>535.465812</td>\n",
       "      <td>19.456761</td>\n",
       "      <td>43.895803</td>\n",
       "      <td>147.037630</td>\n",
       "      <td>3.542726</td>\n",
       "      <td>3.880280</td>\n",
       "      <td>3.592763</td>\n",
       "    </tr>\n",
       "    <tr>\n",
       "      <th>std</th>\n",
       "      <td>301.541157</td>\n",
       "      <td>11.407644</td>\n",
       "      <td>21.194443</td>\n",
       "      <td>184.681582</td>\n",
       "      <td>6.759246</td>\n",
       "      <td>7.074903</td>\n",
       "      <td>2.955554</td>\n",
       "    </tr>\n",
       "    <tr>\n",
       "      <th>min</th>\n",
       "      <td>399.000000</td>\n",
       "      <td>11.400000</td>\n",
       "      <td>24.000000</td>\n",
       "      <td>0.000000</td>\n",
       "      <td>0.000000</td>\n",
       "      <td>0.000000</td>\n",
       "      <td>0.000000</td>\n",
       "    </tr>\n",
       "    <tr>\n",
       "      <th>25%</th>\n",
       "      <td>458.000000</td>\n",
       "      <td>16.900000</td>\n",
       "      <td>39.000000</td>\n",
       "      <td>63.000000</td>\n",
       "      <td>1.000000</td>\n",
       "      <td>1.000000</td>\n",
       "      <td>3.000000</td>\n",
       "    </tr>\n",
       "    <tr>\n",
       "      <th>50%</th>\n",
       "      <td>483.000000</td>\n",
       "      <td>18.400000</td>\n",
       "      <td>43.000000</td>\n",
       "      <td>97.000000</td>\n",
       "      <td>2.000000</td>\n",
       "      <td>3.000000</td>\n",
       "      <td>3.000000</td>\n",
       "    </tr>\n",
       "    <tr>\n",
       "      <th>75%</th>\n",
       "      <td>529.000000</td>\n",
       "      <td>20.500000</td>\n",
       "      <td>46.000000</td>\n",
       "      <td>170.000000</td>\n",
       "      <td>4.000000</td>\n",
       "      <td>5.000000</td>\n",
       "      <td>4.000000</td>\n",
       "    </tr>\n",
       "    <tr>\n",
       "      <th>max</th>\n",
       "      <td>10090.000000</td>\n",
       "      <td>259.000000</td>\n",
       "      <td>440.000000</td>\n",
       "      <td>9720.000000</td>\n",
       "      <td>413.000000</td>\n",
       "      <td>440.000000</td>\n",
       "      <td>100.000000</td>\n",
       "    </tr>\n",
       "  </tbody>\n",
       "</table>\n",
       "</div>"
      ],
      "text/plain": [
       "                co2   temperature      humidity          tvoc           pm1  \\\n",
       "count  52036.000000  52036.000000  52036.000000  50704.000000  20690.000000   \n",
       "mean     535.465812     19.456761     43.895803    147.037630      3.542726   \n",
       "std      301.541157     11.407644     21.194443    184.681582      6.759246   \n",
       "min      399.000000     11.400000     24.000000      0.000000      0.000000   \n",
       "25%      458.000000     16.900000     39.000000     63.000000      1.000000   \n",
       "50%      483.000000     18.400000     43.000000     97.000000      2.000000   \n",
       "75%      529.000000     20.500000     46.000000    170.000000      4.000000   \n",
       "max    10090.000000    259.000000    440.000000   9720.000000    413.000000   \n",
       "\n",
       "               pm25     virusRisk  \n",
       "count  20690.000000  52036.000000  \n",
       "mean       3.880280      3.592763  \n",
       "std        7.074903      2.955554  \n",
       "min        0.000000      0.000000  \n",
       "25%        1.000000      3.000000  \n",
       "50%        3.000000      3.000000  \n",
       "75%        5.000000      4.000000  \n",
       "max      440.000000    100.000000  "
      ]
     },
     "execution_count": 4,
     "metadata": {},
     "output_type": "execute_result"
    }
   ],
   "source": [
    "df.describe()"
   ]
  },
  {
   "cell_type": "code",
   "execution_count": 40,
   "metadata": {},
   "outputs": [
    {
     "data": {
      "text/plain": [
       "100"
      ]
     },
     "execution_count": 40,
     "metadata": {},
     "output_type": "execute_result"
    }
   ],
   "source": [
    "#sns.countplot(x='virusRisk', data=df)\n",
    "df['virusRisk'].max()\n",
    "#df['virusRisk']"
   ]
  },
  {
   "cell_type": "code",
   "execution_count": 41,
   "metadata": {},
   "outputs": [
    {
     "data": {
      "text/plain": [
       "co2              int64\n",
       "temperature    float64\n",
       "humidity         int64\n",
       "tvoc           float64\n",
       "pm1            float64\n",
       "pm25           float64\n",
       "virusRisk        int64\n",
       "dtype: object"
      ]
     },
     "execution_count": 41,
     "metadata": {},
     "output_type": "execute_result"
    }
   ],
   "source": [
    "df.dtypes"
   ]
  },
  {
   "cell_type": "code",
   "execution_count": 42,
   "metadata": {},
   "outputs": [
    {
     "data": {
      "text/html": [
       "<div>\n",
       "<style scoped>\n",
       "    .dataframe tbody tr th:only-of-type {\n",
       "        vertical-align: middle;\n",
       "    }\n",
       "\n",
       "    .dataframe tbody tr th {\n",
       "        vertical-align: top;\n",
       "    }\n",
       "\n",
       "    .dataframe thead th {\n",
       "        text-align: right;\n",
       "    }\n",
       "</style>\n",
       "<table border=\"1\" class=\"dataframe\">\n",
       "  <thead>\n",
       "    <tr style=\"text-align: right;\">\n",
       "      <th></th>\n",
       "      <th>co2</th>\n",
       "      <th>temperature</th>\n",
       "      <th>humidity</th>\n",
       "      <th>tvoc</th>\n",
       "      <th>pm1</th>\n",
       "      <th>pm25</th>\n",
       "      <th>virusRisk</th>\n",
       "    </tr>\n",
       "  </thead>\n",
       "  <tbody>\n",
       "    <tr>\n",
       "      <th>18888</th>\n",
       "      <td>465</td>\n",
       "      <td>18.1</td>\n",
       "      <td>54</td>\n",
       "      <td>140.0</td>\n",
       "      <td>1.0</td>\n",
       "      <td>1.0</td>\n",
       "      <td>0</td>\n",
       "    </tr>\n",
       "    <tr>\n",
       "      <th>18916</th>\n",
       "      <td>466</td>\n",
       "      <td>17.6</td>\n",
       "      <td>55</td>\n",
       "      <td>116.0</td>\n",
       "      <td>0.0</td>\n",
       "      <td>0.0</td>\n",
       "      <td>0</td>\n",
       "    </tr>\n",
       "    <tr>\n",
       "      <th>18908</th>\n",
       "      <td>467</td>\n",
       "      <td>17.8</td>\n",
       "      <td>55</td>\n",
       "      <td>119.0</td>\n",
       "      <td>0.0</td>\n",
       "      <td>0.0</td>\n",
       "      <td>0</td>\n",
       "    </tr>\n",
       "    <tr>\n",
       "      <th>18904</th>\n",
       "      <td>455</td>\n",
       "      <td>17.9</td>\n",
       "      <td>55</td>\n",
       "      <td>114.0</td>\n",
       "      <td>0.0</td>\n",
       "      <td>0.0</td>\n",
       "      <td>0</td>\n",
       "    </tr>\n",
       "    <tr>\n",
       "      <th>18876</th>\n",
       "      <td>451</td>\n",
       "      <td>18.6</td>\n",
       "      <td>53</td>\n",
       "      <td>133.0</td>\n",
       "      <td>0.0</td>\n",
       "      <td>0.0</td>\n",
       "      <td>0</td>\n",
       "    </tr>\n",
       "  </tbody>\n",
       "</table>\n",
       "</div>"
      ],
      "text/plain": [
       "       co2  temperature  humidity   tvoc  pm1  pm25  virusRisk\n",
       "18888  465         18.1        54  140.0  1.0   1.0          0\n",
       "18916  466         17.6        55  116.0  0.0   0.0          0\n",
       "18908  467         17.8        55  119.0  0.0   0.0          0\n",
       "18904  455         17.9        55  114.0  0.0   0.0          0\n",
       "18876  451         18.6        53  133.0  0.0   0.0          0"
      ]
     },
     "execution_count": 42,
     "metadata": {},
     "output_type": "execute_result"
    }
   ],
   "source": [
    "df_sorted = df.sort_values('virusRisk')\n",
    "df_sorted.head()"
   ]
  },
  {
   "cell_type": "code",
   "execution_count": 43,
   "metadata": {},
   "outputs": [
    {
     "data": {
      "text/html": [
       "<div>\n",
       "<style scoped>\n",
       "    .dataframe tbody tr th:only-of-type {\n",
       "        vertical-align: middle;\n",
       "    }\n",
       "\n",
       "    .dataframe tbody tr th {\n",
       "        vertical-align: top;\n",
       "    }\n",
       "\n",
       "    .dataframe thead th {\n",
       "        text-align: right;\n",
       "    }\n",
       "</style>\n",
       "<table border=\"1\" class=\"dataframe\">\n",
       "  <thead>\n",
       "    <tr style=\"text-align: right;\">\n",
       "      <th></th>\n",
       "      <th>co2</th>\n",
       "      <th>temperature</th>\n",
       "      <th>humidity</th>\n",
       "      <th>tvoc</th>\n",
       "      <th>pm1</th>\n",
       "      <th>pm25</th>\n",
       "      <th>virusRisk</th>\n",
       "    </tr>\n",
       "  </thead>\n",
       "  <tbody>\n",
       "    <tr>\n",
       "      <th>45980</th>\n",
       "      <td>4500</td>\n",
       "      <td>186.0</td>\n",
       "      <td>370</td>\n",
       "      <td>690.0</td>\n",
       "      <td>0.0</td>\n",
       "      <td>0.0</td>\n",
       "      <td>40</td>\n",
       "    </tr>\n",
       "    <tr>\n",
       "      <th>45984</th>\n",
       "      <td>4690</td>\n",
       "      <td>185.0</td>\n",
       "      <td>370</td>\n",
       "      <td>690.0</td>\n",
       "      <td>0.0</td>\n",
       "      <td>0.0</td>\n",
       "      <td>40</td>\n",
       "    </tr>\n",
       "    <tr>\n",
       "      <th>45985</th>\n",
       "      <td>476</td>\n",
       "      <td>202.0</td>\n",
       "      <td>340</td>\n",
       "      <td>84.0</td>\n",
       "      <td>0.0</td>\n",
       "      <td>0.0</td>\n",
       "      <td>40</td>\n",
       "    </tr>\n",
       "    <tr>\n",
       "      <th>45988</th>\n",
       "      <td>457</td>\n",
       "      <td>18.4</td>\n",
       "      <td>37</td>\n",
       "      <td>63.0</td>\n",
       "      <td>0.0</td>\n",
       "      <td>0.0</td>\n",
       "      <td>40</td>\n",
       "    </tr>\n",
       "    <tr>\n",
       "      <th>45990</th>\n",
       "      <td>4640</td>\n",
       "      <td>200.0</td>\n",
       "      <td>370</td>\n",
       "      <td>630.0</td>\n",
       "      <td>10.0</td>\n",
       "      <td>10.0</td>\n",
       "      <td>40</td>\n",
       "    </tr>\n",
       "    <tr>\n",
       "      <th>...</th>\n",
       "      <td>...</td>\n",
       "      <td>...</td>\n",
       "      <td>...</td>\n",
       "      <td>...</td>\n",
       "      <td>...</td>\n",
       "      <td>...</td>\n",
       "      <td>...</td>\n",
       "    </tr>\n",
       "    <tr>\n",
       "      <th>49411</th>\n",
       "      <td>606</td>\n",
       "      <td>21.3</td>\n",
       "      <td>37</td>\n",
       "      <td>298.0</td>\n",
       "      <td>0.0</td>\n",
       "      <td>0.0</td>\n",
       "      <td>40</td>\n",
       "    </tr>\n",
       "    <tr>\n",
       "      <th>49413</th>\n",
       "      <td>5120</td>\n",
       "      <td>179.0</td>\n",
       "      <td>400</td>\n",
       "      <td>910.0</td>\n",
       "      <td>10.0</td>\n",
       "      <td>10.0</td>\n",
       "      <td>50</td>\n",
       "    </tr>\n",
       "    <tr>\n",
       "      <th>49418</th>\n",
       "      <td>640</td>\n",
       "      <td>21.1</td>\n",
       "      <td>37</td>\n",
       "      <td>318.0</td>\n",
       "      <td>0.0</td>\n",
       "      <td>0.0</td>\n",
       "      <td>40</td>\n",
       "    </tr>\n",
       "    <tr>\n",
       "      <th>49442</th>\n",
       "      <td>746</td>\n",
       "      <td>20.3</td>\n",
       "      <td>39</td>\n",
       "      <td>311.0</td>\n",
       "      <td>1.0</td>\n",
       "      <td>1.0</td>\n",
       "      <td>40</td>\n",
       "    </tr>\n",
       "    <tr>\n",
       "      <th>49446</th>\n",
       "      <td>756</td>\n",
       "      <td>20.0</td>\n",
       "      <td>390</td>\n",
       "      <td>304.0</td>\n",
       "      <td>1.0</td>\n",
       "      <td>1.0</td>\n",
       "      <td>40</td>\n",
       "    </tr>\n",
       "  </tbody>\n",
       "</table>\n",
       "<p>208 rows × 7 columns</p>\n",
       "</div>"
      ],
      "text/plain": [
       "        co2  temperature  humidity   tvoc   pm1  pm25  virusRisk\n",
       "45980  4500        186.0       370  690.0   0.0   0.0         40\n",
       "45984  4690        185.0       370  690.0   0.0   0.0         40\n",
       "45985   476        202.0       340   84.0   0.0   0.0         40\n",
       "45988   457         18.4        37   63.0   0.0   0.0         40\n",
       "45990  4640        200.0       370  630.0  10.0  10.0         40\n",
       "...     ...          ...       ...    ...   ...   ...        ...\n",
       "49411   606         21.3        37  298.0   0.0   0.0         40\n",
       "49413  5120        179.0       400  910.0  10.0  10.0         50\n",
       "49418   640         21.1        37  318.0   0.0   0.0         40\n",
       "49442   746         20.3        39  311.0   1.0   1.0         40\n",
       "49446   756         20.0       390  304.0   1.0   1.0         40\n",
       "\n",
       "[208 rows x 7 columns]"
      ]
     },
     "execution_count": 43,
     "metadata": {},
     "output_type": "execute_result"
    }
   ],
   "source": [
    "df_highVR = df.query('virusRisk > 10')\n",
    "df_highVR.head(10)\n",
    "df_highVR.shape\n",
    "df_highVR"
   ]
  },
  {
   "cell_type": "code",
   "execution_count": 44,
   "metadata": {},
   "outputs": [
    {
     "data": {
      "text/plain": [
       "(20542, 7)"
      ]
     },
     "execution_count": 44,
     "metadata": {},
     "output_type": "execute_result"
    }
   ],
   "source": [
    "# drop rows which contain blanks\n",
    "df=df.dropna()\n",
    "df.shape"
   ]
  },
  {
   "cell_type": "code",
   "execution_count": 45,
   "metadata": {},
   "outputs": [
    {
     "data": {
      "text/plain": [
       "(20372, 7)"
      ]
     },
     "execution_count": 45,
     "metadata": {},
     "output_type": "execute_result"
    }
   ],
   "source": [
    "#Drop Rows where virusRisk >10\n",
    "df.drop(df.loc[df['virusRisk']>10].index, inplace=True)\n",
    "df.shape"
   ]
  },
  {
   "cell_type": "code",
   "execution_count": 46,
   "metadata": {},
   "outputs": [
    {
     "data": {
      "text/plain": [
       "<AxesSubplot:xlabel='virusRisk', ylabel='count'>"
      ]
     },
     "execution_count": 46,
     "metadata": {},
     "output_type": "execute_result"
    },
    {
     "data": {
      "image/png": "[encoded data removed]",
      "text/plain": [
       "<Figure size 432x288 with 1 Axes>"
      ]
     },
     "metadata": {
      "needs_background": "light"
     },
     "output_type": "display_data"
    }
   ],
   "source": [
    "sns.countplot(x='virusRisk', data=df)"
   ]
  },
  {
   "cell_type": "code",
   "execution_count": 51,
   "metadata": {},
   "outputs": [
    {
     "data": {
      "text/plain": [
       "(20290, 7)"
      ]
     },
     "execution_count": 51,
     "metadata": {},
     "output_type": "execute_result"
    }
   ],
   "source": [
    "df['temperature'].max()\n",
    "df_highTemp = df.query('temperature > 35')\n",
    "df_highTemp.shape\n",
    "df_highTemp\n",
    "df.drop(df.loc[df['temperature']>35].index, inplace=True)\n",
    "df.shape"
   ]
  },
  {
   "cell_type": "code",
   "execution_count": 52,
   "metadata": {},
   "outputs": [
    {
     "name": "stdout",
     "output_type": "stream",
     "text": [
      "<class 'pandas.core.frame.DataFrame'>\n",
      "Int64Index: 20290 entries, 0 to 52028\n",
      "Data columns (total 7 columns):\n",
      " #   Column       Non-Null Count  Dtype  \n",
      "---  ------       --------------  -----  \n",
      " 0   co2          20290 non-null  int64  \n",
      " 1   temperature  20290 non-null  float64\n",
      " 2   humidity     20290 non-null  int64  \n",
      " 3   tvoc         20290 non-null  float64\n",
      " 4   pm1          20290 non-null  float64\n",
      " 5   pm25         20290 non-null  float64\n",
      " 6   virusRisk    20290 non-null  int64  \n",
      "dtypes: float64(4), int64(3)\n",
      "memory usage: 1.2 MB\n"
     ]
    }
   ],
   "source": [
    "df.info()"
   ]
  },
  {
   "cell_type": "code",
   "execution_count": 53,
   "metadata": {},
   "outputs": [],
   "source": [
    "df = df.sample(frac=1)"
   ]
  },
  {
   "cell_type": "code",
   "execution_count": 56,
   "metadata": {},
   "outputs": [
    {
     "name": "stdout",
     "output_type": "stream",
     "text": [
      "49498     7\n",
      "2264      4\n",
      "17809     2\n",
      "14941     4\n",
      "34182     7\n",
      "         ..\n",
      "39739     3\n",
      "22500     6\n",
      "20201     1\n",
      "34045     3\n",
      "35913    10\n",
      "Name: virusRisk, Length: 20290, dtype: int64\n"
     ]
    },
    {
     "data": {
      "text/plain": [
       "(20290, 6)"
      ]
     },
     "execution_count": 56,
     "metadata": {},
     "output_type": "execute_result"
    }
   ],
   "source": [
    "y=df['virusRisk']\n",
    "x=df.drop('virusRisk',axis=1)\n",
    "print(y)\n",
    "x.shape"
   ]
  },
  {
   "cell_type": "code",
   "execution_count": 60,
   "metadata": {},
   "outputs": [],
   "source": [
    "from sklearn.preprocessing import StandardScaler\n",
    "ss = StandardScaler()\n",
    "ss.fit(x)\n",
    "X_std= ss.transform(x)"
   ]
  },
  {
   "cell_type": "code",
   "execution_count": 61,
   "metadata": {},
   "outputs": [
    {
     "data": {
      "text/plain": [
       "(14203, 6)"
      ]
     },
     "execution_count": 61,
     "metadata": {},
     "output_type": "execute_result"
    }
   ],
   "source": [
    "X_train,X_test,y_train,y_test=train_test_split(X_std,y,test_size=0.3,random_state=99)\n",
    "X_train.shape"
   ]
  },
  {
   "cell_type": "code",
   "execution_count": 62,
   "metadata": {},
   "outputs": [
    {
     "name": "stdout",
     "output_type": "stream",
     "text": [
      "NN(\n",
      "  (layer1): Linear(in_features=6, out_features=39, bias=True)\n",
      "  (layer2): Linear(in_features=39, out_features=26, bias=True)\n",
      "  (layer3): Linear(in_features=26, out_features=13, bias=True)\n",
      "  (layer4): Linear(in_features=13, out_features=1, bias=True)\n",
      ")\n"
     ]
    }
   ],
   "source": [
    "class NN(nn.Module):\n",
    "  def __init__(self):\n",
    "    super(NN,self).__init__()\n",
    "    self.layer1=nn.Linear(X_train.shape[1],39)\n",
    "    self.layer2=nn.Linear(39,26)\n",
    "    self.layer3=nn.Linear(26,13)\n",
    "    self.layer4=nn.Linear(13,1)\n",
    "  def forward(self,x):\n",
    "    x=nn.functional.relu(self.layer1(x))\n",
    "    x=nn.functional.relu(self.layer2(x))\n",
    "    x=nn.functional.relu(self.layer3(x))\n",
    "    x=self.layer4(x)\n",
    "    return x\n",
    "model = NN()\n",
    "print(model)"
   ]
  },
  {
   "cell_type": "code",
   "execution_count": 63,
   "metadata": {},
   "outputs": [
    {
     "data": {
      "text/plain": [
       "tensor([[-0.4130, -0.3628, -0.4874, -0.6867, -0.2230, -0.2613],\n",
       "        [-0.4130,  0.1639, -0.3796, -0.7203,  0.5229,  0.4562],\n",
       "        [ 0.0191,  0.9540, -0.3796,  0.1131, -0.2230, -0.2613],\n",
       "        ...,\n",
       "        [-0.1475, -0.9883,  0.4829, -0.9622,  0.3737,  0.3127],\n",
       "        [-0.6264,  3.7521, -1.1344,  0.2004, -0.5214, -0.5484],\n",
       "        [-0.2776,  0.7235, -0.3796,  0.1601, -0.5214, -0.5484]],\n",
       "       requires_grad=True)"
      ]
     },
     "execution_count": 63,
     "metadata": {},
     "output_type": "execute_result"
    }
   ],
   "source": [
    "x=torch.tensor(np.array(X_train),dtype=torch.float32,requires_grad=True)\n",
    "y=torch.tensor(np.array(y_train).reshape(-1,1),dtype=torch.float32)\n",
    "x"
   ]
  },
  {
   "cell_type": "code",
   "execution_count": 66,
   "metadata": {},
   "outputs": [],
   "source": [
    "import torch.optim as optim\n",
    "optimizer= optim.SGD(model.parameters(),lr=0.003)\n",
    "loss_fn=nn.MSELoss()"
   ]
  },
  {
   "cell_type": "code",
   "execution_count": 67,
   "metadata": {},
   "outputs": [
    {
     "name": "stdout",
     "output_type": "stream",
     "text": [
      "epochs: 0......loss:13.969691276550293\n",
      "epochs: 5......loss:13.100091934204102\n",
      "epochs: 10......loss:12.284679412841797\n",
      "epochs: 15......loss:11.510775566101074\n"
     ]
    }
   ],
   "source": [
    "epochs=20\n",
    "for i in range(epochs):\n",
    "  #initialize the model parameter\n",
    "  optimizer.zero_grad(set_to_none=True)\n",
    "  #calculate the loss\n",
    "  output=model(x)\n",
    "  loss=loss_fn(output,y)\n",
    "  #backpropagation\n",
    "  loss.backward()\n",
    "  #update the parameters\n",
    "  optimizer.step()\n",
    "  if(i%5==0):\n",
    "    print(f\"epochs: {i}......loss:{loss}\")"
   ]
  },
  {
   "cell_type": "code",
   "execution_count": 70,
   "metadata": {},
   "outputs": [
    {
     "name": "stdout",
     "output_type": "stream",
     "text": [
      "-4.120932377808187\n",
      "-4.121258145658547\n"
     ]
    }
   ],
   "source": [
    "# Validation\n",
    "from sklearn.metrics import r2_score\n",
    "y_train_pred = model(torch.tensor(X_train,dtype=torch.float32,requires_grad=True))\n",
    "y_test_pred = model(torch.tensor(X_test,dtype=torch.float32))\n",
    "\n",
    "#convert to numpy array\n",
    "y_train_pred = y_train_pred.detach().numpy()\n",
    "y_test_pred = y_test_pred.detach().numpy()\n",
    "test_accuracy=r2_score(y_test,y_test_pred)\n",
    "train_accuracy=r2_score(y_train,y_train_pred)\n",
    "print(train_accuracy)\n",
    "print(test_accuracy)"
   ]
  },
  {
   "cell_type": "code",
   "execution_count": 71,
   "metadata": {},
   "outputs": [
    {
     "data": {
      "image/png": "[encoded data removed]",
      "text/plain": [
       "<Figure size 432x288 with 1 Axes>"
      ]
     },
     "metadata": {
      "needs_background": "light"
     },
     "output_type": "display_data"
    }
   ],
   "source": [
    "plt.xlabel(\"virusIndex\")\n",
    "plt.ylabel(\"Predicted VirusIndex\")\n",
    "plt.scatter(y_train,y_train_pred,color='r',label=\"train_data\")\n",
    "plt.scatter(y_test,y_test_pred,color='b',label=\"test_data\")\n",
    "plt.legend()\n",
    "plt.show()"
   ]
  }
 ],
 "metadata": {
  "interpreter": {
   "hash": "c69161b2b0b8fed3aba7c1237836fa0235e92f1bbbde2e4d45fad5ac2972ae0e"
  },
  "kernelspec": {
   "display_name": "Python 3.9.1 ('.venv': venv)",
   "language": "python",
   "name": "python3"
  },
  "language_info": {
   "codemirror_mode": {
    "name": "ipython",
    "version": 3
   },
   "file_extension": ".py",
   "mimetype": "text/x-python",
   "name": "python",
   "nbconvert_exporter": "python",
   "pygments_lexer": "ipython3",
   "version": "3.9.1"
  },
  "orig_nbformat": 4
 },
 "nbformat": 4,
 "nbformat_minor": 2
}
